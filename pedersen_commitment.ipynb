{
 "cells": [
  {
   "cell_type": "code",
   "execution_count": 18,
   "id": "147f23",
   "metadata": {
    "collapsed": false
   },
   "outputs": [
   ],
   "source": [
    "# Define secp256k1 curve\n",
    "p = 0xFFFFFFFFFFFFFFFFFFFFFFFFFFFFFFFFFFFFFFFFFFFFFFFFFFFFFFFEFFFFFC2F\n",
    "F = FiniteField(p)\n",
    "a = 0\n",
    "b = 7\n",
    "E = EllipticCurve(F, [a, b])\n",
    "\n",
    "# Define Bitcoin's chosen secp256k1 generator\n",
    "G_x = 0x79BE667EF9DCBBAC55A06295CE870B07029BFCDB2DCE28D959F2815B16F81798\n",
    "G = E.lift_x(G_x)  # Lift x-coordinate to get full generator point\n",
    "\n",
    "# Define the order of the group\n",
    "N = G.order()"
   ]
  },
  {
   "cell_type": "code",
   "execution_count": 19,
   "id": "b04354",
   "metadata": {
    "collapsed": false
   },
   "outputs": [
   ],
   "source": [
    "def setup():\n",
    "    x = randint(1, N - 1)\n",
    "    H = x * G\n",
    "    return H"
   ]
  },
  {
   "cell_type": "code",
   "execution_count": 0,
   "id": "b5f57a",
   "metadata": {
    "collapsed": false
   },
   "outputs": [
   ],
   "source": [
   ]
  },
  {
   "cell_type": "code",
   "execution_count": 20,
   "id": "d41091",
   "metadata": {
    "collapsed": false
   },
   "outputs": [
   ],
   "source": [
    "import hashlib\n",
    "\n",
    "def commit(x, H):\n",
    "    assert(0 < x < N)\n",
    "    s = x % N\n",
    "    t = randint(1, N - 1)\n",
    "    C = s*G + t*H\n",
    "    return (C, t)"
   ]
  },
  {
   "cell_type": "code",
   "execution_count": 21,
   "id": "48f6a0",
   "metadata": {
    "collapsed": false
   },
   "outputs": [
   ],
   "source": [
    "def open(C, t, x, H):\n",
    "    assert(0 < x < N)\n",
    "    s = x\n",
    "    Cprime = s*G + t*H\n",
    "    return C == Cprime"
   ]
  },
  {
   "cell_type": "code",
   "execution_count": 22,
   "id": "63de80",
   "metadata": {
    "collapsed": false
   },
   "outputs": [
   ],
   "source": [
    "def addC(C1, C2):\n",
    "    return C1 + C2\n",
    "\n",
    "def addT(t1, t2):\n",
    "    return (t1 + t2) % N\n",
    "\n",
    "def addX(x1, x2):\n",
    "    assert(0 < x1 + x2 < N)\n",
    "    return (x1 + x2) % N"
   ]
  },
  {
   "cell_type": "markdown",
   "id": "7dada9",
   "metadata": {
    "collapsed": false
   },
   "source": [
    "# Example"
   ]
  },
  {
   "cell_type": "code",
   "execution_count": 23,
   "id": "3bf54b",
   "metadata": {
    "collapsed": false
   },
   "outputs": [
   ],
   "source": [
    "H = setup()"
   ]
  },
  {
   "cell_type": "code",
   "execution_count": 24,
   "id": "5184b1",
   "metadata": {
    "collapsed": false
   },
   "outputs": [
   ],
   "source": [
    "x1 = 42  # Secret value 1\n",
    "x2 = 15  # Secret value 2\n",
    "C1, t1 = commit(x1, H)\n",
    "C2, t2 = commit(x2, H)"
   ]
  },
  {
   "cell_type": "code",
   "execution_count": 25,
   "id": "d5ac91",
   "metadata": {
    "collapsed": false
   },
   "outputs": [
   ],
   "source": [
    "Cs = addC(C1, C2)\n",
    "ts = addT(t1, t2)\n",
    "xs = addX(x1, x2)"
   ]
  },
  {
   "cell_type": "code",
   "execution_count": 26,
   "id": "7f633b",
   "metadata": {
    "collapsed": false
   },
   "outputs": [
    {
     "data": {
      "text/plain": [
       "(True, True, True)"
      ]
     },
     "execution_count": 26,
     "metadata": {
     },
     "output_type": "execute_result"
    }
   ],
   "source": [
    "open(C1, t1, x1, H), open(C2, t2, x2, H), open(Cs, ts, xs, H)"
   ]
  }
 ],
 "metadata": {
  "kernelspec": {
   "argv": [
    "sage-10.4",
    "--python",
    "-m",
    "sage.repl.ipython_kernel",
    "--matplotlib=inline",
    "-f",
    "{connection_file}"
   ],
   "display_name": "SageMath 10.4",
   "env": {
   },
   "language": "sagemath",
   "metadata": {
    "cocalc": {
     "description": "Open-source mathematical software system",
     "priority": 10,
     "url": "https://www.sagemath.org/"
    }
   },
   "name": "sage-10.4",
   "resource_dir": "/ext/jupyter/kernels/sage-10.4"
  }
 },
 "nbformat": 4,
 "nbformat_minor": 4
}