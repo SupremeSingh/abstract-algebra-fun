{
 "cells": [
  {
   "cell_type": "code",
   "execution_count": 122,
   "metadata": {},
   "outputs": [],
   "source": []
  },
  {
   "cell_type": "code",
   "execution_count": 50,
   "metadata": {},
   "outputs": [],
   "source": [
    "def append(hash, byte, pol, poly_ring):\n",
    "    hash = hash * poly_ring(256.digits(2)) # << 8\n",
    "    hash = hash + poly_ring(byte.digits(2)) # | Pol(b)\n",
    "    \n",
    "    return hash % pol"
   ]
  },
  {
   "cell_type": "code",
   "execution_count": 194,
   "metadata": {},
   "outputs": [],
   "source": [
    "def orPoly(x, y, poly_ring):\n",
    "    return poly_ring([a or b for (a, b) in zip(x.list(), y.list())])\n",
    "\n",
    "# https://github.com/restic/chunker/blob/master/chunker.go#L162\n",
    "def generateTable(irr, poly_ring, deg, window_size):\n",
    "    out = []\n",
    "    for i in range(0, 256):\n",
    "        h = poly_ring(0)\n",
    "\n",
    "        h = append(h, Integer(i), irr, poly_ring)\n",
    "        for j in range(0, window_size - 1):\n",
    "            h = append(h, 0, irr, poly_ring)\n",
    "        out.append(h)\n",
    "        \n",
    "    mod = []\n",
    "    k = irr.degree()\n",
    "    \n",
    "    for i in range(0, 256):\n",
    "        mod.append(orPoly(poly_ring(Integer(i << k % deg).digits()) % irr, poly_ring(Integer(i << k % deg).digits()), poly_ring))\n",
    "    \n",
    "    \n",
    "    return (out, mod)"
   ]
  },
  {
   "cell_type": "code",
   "execution_count": 285,
   "metadata": {},
   "outputs": [],
   "source": [
    "def byteToInt(poly):\n",
    "    if poly.degree() < 24:\n",
    "        return 0\n",
    "    return ZZ(poly.list()[24:32], base = 2)\n",
    "    \n",
    "    \n",
    "    return \n",
    "def updateDigest (digest, tables, byte, poly_ring):\n",
    "    index = byteToInt(digest) # get top byte\n",
    "    digest = (digest * poly_ring(256.digits(2))) % irr # << 8\n",
    "    digest = (digest + poly_ring(Integer(byte).digits(2))) % irr # | Pol(b)\n",
    "    \n",
    "    digest = (digest + tables[1][index]) % irr\n",
    "    return digest"
   ]
  },
  {
   "cell_type": "code",
   "execution_count": 300,
   "metadata": {},
   "outputs": [],
   "source": [
    "def slide (digest, byte, tables, state, poly_ring):\n",
    "    out = state.window[state.wpos]\n",
    "    state.window[state.wpos] = byte\n",
    "    digest = (digest + tables[0][out]) % irr\n",
    "    state.wpos = (state.wpos + 1) % state.windowSize\n",
    "    \n",
    "    digest = updateDigest(digest, tables, byte, poly_ring)\n",
    "    return digest % irr"
   ]
  },
  {
   "cell_type": "code",
   "execution_count": 397,
   "metadata": {},
   "outputs": [],
   "source": [
    "class Chunker:\n",
    "    def __init__(self, poly_ring, windowSize, tables, irr):\n",
    "        self.poly_ring = poly_ring\n",
    "        self.windowSize = windowSize\n",
    "        self.tables = tables\n",
    "        self.irr = irr\n",
    "        self.reset()\n",
    "        \n",
    "    def reset(self):\n",
    "        self.window = []\n",
    "        for i in range(0, self.windowSize):\n",
    "            self.window.append(0)\n",
    "        self.wpos = 0\n",
    "        self.digest = self.poly_ring(0)\n",
    "        self.digest = slide(self.digest, 1, self.tables, self, self.poly_ring)"
   ]
  },
  {
   "cell_type": "code",
   "execution_count": 398,
   "metadata": {},
   "outputs": [],
   "source": [
    "from sage.crypto.util import ascii_to_bin\n",
    "f = open(\"/tmp/files/robinson-crusoe-missing.txt\", \"rb\")\n",
    "bytes = bytearray(f.read())"
   ]
  },
  {
   "cell_type": "code",
   "execution_count": 399,
   "metadata": {},
   "outputs": [],
   "source": [
    "P = polygen(GF(2), 'x')\n",
    "poly_ring = P.parent()\n",
    "irr = poly_ring([1, 0, 0, 1, 0, 0, 0, 0, 0, 0, 0, 0, 0, 0, 0, 0, 0, 0, 0, 0, 0, 0, 0, 0, 0, 0, 0, 0, 0, 0, 0, 1])"
   ]
  },
  {
   "cell_type": "code",
   "execution_count": 400,
   "metadata": {},
   "outputs": [],
   "source": [
    "tables = generateTable(irr, poly_ring, 32, 64)"
   ]
  },
  {
   "cell_type": "code",
   "execution_count": null,
   "metadata": {},
   "outputs": [
    {
     "name": "stderr",
     "output_type": "stream",
     "text": [
      "/Applications/SageMath-8.7.app/Contents/Resources/sage/local/lib/python2.7/site-packages/sage/repl/ipython_kernel/__main__.py:7: DeprecationWarning: polynomial slicing with a start index is deprecated, use list() and slice the resulting list instead\n",
      "See http://trac.sagemath.org/18940 for details.\n"
     ]
    },
    {
     "name": "stdout",
     "output_type": "stream",
     "text": [
      "113\t20081\t935280640\n",
      "126\t22910\t1204920320\n",
      "113\t31345\t209068032\n",
      "20\t33044\t1538301952\n",
      "199\t37319\t742105088\n",
      "187\t39867\t569729024\n",
      "163\t42659\t23691264\n",
      "221\t49373\t858734592\n",
      "177\t49841\t1071874048\n",
      "176\t61360\t803405824\n",
      "198\t65478\t1052033024\n",
      "238\t70126\t1127849984\n",
      "226\t72162\t602112000\n",
      "154\t80026\t792895488\n",
      "204\t83404\t1833402368\n",
      "213\t91093\t2098339840\n",
      "213\t100565\t1243496448\n",
      "16\t105232\t898908160\n",
      "22\t118038\t1537122304\n",
      "48\t123440\t1552015360\n",
      "5\t140549\t766099456\n",
      "109\t143469\t990445568\n",
      "144\t148624\t1251508224\n",
      "104\t160872\t245178368\n",
      "52\t168500\t11657216\n",
      "178\t172722\t1227710464\n",
      "99\t185187\t919871488\n",
      "102\t196454\t424452096\n",
      "135\t205447\t512737280\n",
      "145\t217489\t1748434944\n",
      "105\t220009\t296116224\n",
      "3\t223235\t1269809152\n",
      "34\t238882\t1734541312\n",
      "41\t240681\t1643872256\n",
      "23\t244503\t893329408\n",
      "46\t251438\t1262567424\n",
      "174\t264366\t1420402688\n",
      "231\t268007\t723296256\n",
      "46\t275758\t803971072\n",
      "110\t294254\t2136432640\n",
      "181\t295349\t31875072\n",
      "54\t298806\t1235337216\n",
      "222\t303582\t1487577088\n",
      "100\t304740\t1170046976\n",
      "165\t313253\t1674264576\n",
      "44\t322604\t888119296\n",
      "158\t328094\t1449517056\n",
      "29\t329757\t21643264\n",
      "4\t333828\t411443200\n",
      "212\t348628\t682917888\n",
      "54\t386870\t167182336\n",
      "191\t399295\t1075273728\n",
      "171\t400555\t404783104\n",
      "234\t411626\t338468864\n",
      "88\t416600\t1199054848\n",
      "229\t417253\t1769185280\n",
      "191\t417471\t1307549696\n",
      "11\t422411\t1846714368\n",
      "14\t432398\t183386112\n",
      "15\t439311\t997261312\n",
      "82\t447314\t458293248\n",
      "19\t447507\t1628905472\n",
      "146\t448658\t1767407616\n",
      "243\t451571\t2104754176\n",
      "246\t463606\t1154891776\n",
      "37\t478757\t401080320\n",
      "162\t488098\t186867712\n",
      "56\t493368\t1225605120\n",
      "146\t495250\t1885683712\n",
      "14\t497678\t2058960896\n",
      "211\t500435\t1567096832\n",
      "133\t502661\t1064230912\n",
      "83\t518739\t698687488\n",
      "214\t531414\t139870208\n",
      "237\t534509\t586088448\n",
      "196\t549572\t521961472\n",
      "202\t549578\t1869193216\n",
      "13\t562189\t1023811584\n",
      "111\t565615\t25395200\n",
      "165\t565669\t739328000\n",
      "59\t586555\t2127003648\n",
      "87\t588119\t563879936\n",
      "139\t589707\t1067622400\n",
      "1\t591617\t416841728\n",
      "32\t593184\t1114611712\n",
      "224\t595680\t445505536\n",
      "115\t598899\t275742720\n",
      "149\t602773\t1659904000\n",
      "65\t613953\t2052620288\n",
      "141\t617869\t2097758208\n",
      "108\t620652\t467402752\n",
      "137\t626313\t1187315712\n",
      "185\t639673\t688349184\n",
      "85\t640597\t1669742592\n"
     ]
    }
   ],
   "source": [
    "state = Chunker(poly_ring, 64, tables, irr)\n",
    "mask = (1 << 13) - 1\n",
    "for i, byte in enumerate(bytes):\n",
    "    state.digest = slide(state.digest, byte, tables, state, poly_ring)\n",
    "    \n",
    "    asInt = ZZ(state.digest.list(), base = 2)\n",
    "    if asInt & mask == 0:\n",
    "        print(\"{0}\\t{1}\\t{2}\".format(i % 256, i, asInt))\n",
    "        state.reset()"
   ]
  },
  {
   "cell_type": "code",
   "execution_count": null,
   "metadata": {},
   "outputs": [],
   "source": []
  }
 ],
 "metadata": {
  "kernelspec": {
   "display_name": "SageMath 8.7",
   "language": "",
   "name": "sagemath"
  },
  "language_info": {
   "codemirror_mode": {
    "name": "ipython",
    "version": 2
   },
   "file_extension": ".py",
   "mimetype": "text/x-python",
   "name": "python",
   "nbconvert_exporter": "python",
   "pygments_lexer": "ipython2",
   "version": "2.7.15"
  }
 },
 "nbformat": 4,
 "nbformat_minor": 2
}
