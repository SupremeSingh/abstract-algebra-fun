{
 "cells": [
  {
   "cell_type": "code",
   "execution_count": 1,
   "metadata": {},
   "outputs": [],
   "source": [
    "def pointEdToMont(P, F):\n",
    "    (x , y) = P\n",
    "    \n",
    "    return (F((1 + y) / (1 - y)), F((1 + y) / ((1 - y) * x)))\n",
    "\n",
    "def pointMontToEd(P, F):\n",
    "    (u, v) = P\n",
    "    \n",
    "    return (F(u / v), F((u - 1) / (u + 1)))"
   ]
  },
  {
   "cell_type": "code",
   "execution_count": 2,
   "metadata": {},
   "outputs": [],
   "source": [
    "def pointMontToW(P, F, A, B):\n",
    "    (u, v) = P\n",
    "    \n",
    "    return (F(u / B + A / (3 * B)), F(v / B))\n",
    "    \n",
    "def pointWToMont(P, F, A, B):\n",
    "    (x, y) = P\n",
    "    \n",
    "    return (F(B * (x - A / 3)), F(y*B))"
   ]
  },
  {
   "cell_type": "code",
   "execution_count": 3,
   "metadata": {},
   "outputs": [],
   "source": [
    "def pointWToEd(P, F, A, B):\n",
    "    return pointMontToEd(pointWToMont(P, F, A, B), F)\n",
    "\n",
    "def pointEdToW(P, F, A, B):\n",
    "    return pointMontToW(pointEdToMont(P, F), F, A, B)"
   ]
  },
  {
   "cell_type": "code",
   "execution_count": 4,
   "metadata": {},
   "outputs": [],
   "source": [
    "def paramsEdToMont(F, A, D):\n",
    "    return (F(2 * (A + D) / (A - D)), F(4 / (A - D)))"
   ]
  },
  {
   "cell_type": "code",
   "execution_count": 5,
   "metadata": {},
   "outputs": [],
   "source": [
    "def paramsMontToW(F, A, B):\n",
    "    return (F((3 - A ** 2) / (3 * B**2)), F((2 * A**3 - 9 * A) / (27 * B**3)))"
   ]
  },
  {
   "cell_type": "code",
   "execution_count": 6,
   "metadata": {},
   "outputs": [],
   "source": [
    "def paramsEdToW(F, A, D):\n",
    "    (Am, Bm) = paramsEdToMont(F, A, D)\n",
    "    return paramsMontToW(F, Am, Bm)"
   ]
  }
 ],
 "metadata": {
  "kernelspec": {
   "display_name": "SageMath 8.7",
   "language": "",
   "name": "sagemath"
  },
  "language_info": {
   "codemirror_mode": {
    "name": "ipython",
    "version": 2
   },
   "file_extension": ".py",
   "mimetype": "text/x-python",
   "name": "python",
   "nbconvert_exporter": "python",
   "pygments_lexer": "ipython2",
   "version": "2.7.15"
  }
 },
 "nbformat": 4,
 "nbformat_minor": 2
}
