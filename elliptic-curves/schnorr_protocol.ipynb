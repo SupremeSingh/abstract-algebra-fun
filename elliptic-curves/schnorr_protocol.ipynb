{
 "cells": [
  {
   "cell_type": "code",
   "execution_count": 3,
   "id": "0babc5",
   "metadata": {
    "collapsed": false
   },
   "outputs": [
   ],
   "source": [
    "from sage.all import *\n",
    "import hashlib\n",
    "from random import randint"
   ]
  },
  {
   "cell_type": "code",
   "execution_count": 4,
   "id": "85ed48",
   "metadata": {
    "collapsed": false
   },
   "outputs": [
   ],
   "source": [
    "# Define secp256k1 curve\n",
    "p = 0xFFFFFFFFFFFFFFFFFFFFFFFFFFFFFFFFFFFFFFFFFFFFFFFFFFFFFFFEFFFFFC2F\n",
    "F = FiniteField(p)\n",
    "a = 0\n",
    "b = 7\n",
    "E = EllipticCurve(F, [a, b])\n",
    "\n",
    "# Define Bitcoin's chosen secp256k1 generator\n",
    "G_x = 0x79BE667EF9DCBBAC55A06295CE870B07029BFCDB2DCE28D959F2815B16F81798\n",
    "G = E.lift_x(G_x)  # Lift x-coordinate to get full generator point\n",
    "\n",
    "# Define the order of the group\n",
    "N = G.order()"
   ]
  },
  {
   "cell_type": "code",
   "execution_count": 5,
   "id": "bae7c6",
   "metadata": {
    "collapsed": false
   },
   "outputs": [
   ],
   "source": [
    "# --- Implementing Schnorr Signature Scheme ---\n",
    "def schnorr_prove(secret, G):\n",
    "    k = randint(1, N - 1)  # Random nonce\n",
    "    R = k * G  # Commitment\n",
    "    return R, k\n",
    "\n",
    "def generate_challenge(R, public_key):\n",
    "    challenge = int(hashlib.sha256(str(R.xy() + public_key.xy()).encode()).hexdigest(), 16) % N\n",
    "    return challenge\n",
    "\n",
    "def schnorr_respond(secret, k, challenge):\n",
    "    response = (k + challenge * secret) % N\n",
    "    return response\n",
    "\n",
    "def schnorr_verify(G, R, challenge, response, public_key):\n",
    "    return response * G == R + challenge * public_key"
   ]
  },
  {
   "cell_type": "code",
   "execution_count": 4,
   "id": "810d82",
   "metadata": {
    "collapsed": false
   },
   "outputs": [
    {
     "name": "stdout",
     "output_type": "stream",
     "text": [
      "Schnorr Proof verified successfully!\n"
     ]
    }
   ],
   "source": [
    "secret = randint(1, N - 1)  # Private key\n",
    "public_key = secret * G  # Public key\n",
    "\n",
    "# Prover step: generates commitment R\n",
    "R, k = schnorr_prove(secret, G)\n",
    "\n",
    "# Verifier step: generates challenge e\n",
    "challenge = generate_challenge(R, public_key)\n",
    "\n",
    "# Prover step: responds with s\n",
    "response = schnorr_respond(secret, k, challenge)\n",
    "\n",
    "# Verifier step: verifies the proof\n",
    "assert schnorr_verify(G, R, challenge, response, public_key)\n",
    "\n",
    "print(\"Schnorr Proof verified successfully!\")"
   ]
  }
 ],
 "metadata": {
  "kernelspec": {
   "argv": [
    "sage-10.4",
    "--python",
    "-m",
    "sage.repl.ipython_kernel",
    "--matplotlib=inline",
    "-f",
    "{connection_file}"
   ],
   "display_name": "SageMath 10.4",
   "env": {
   },
   "language": "sagemath",
   "metadata": {
    "cocalc": {
     "description": "Open-source mathematical software system",
     "priority": 10,
     "url": "https://www.sagemath.org/"
    }
   },
   "name": "sage-10.4",
   "resource_dir": "/ext/jupyter/kernels/sage-10.4"
  }
 },
 "nbformat": 4,
 "nbformat_minor": 4
}