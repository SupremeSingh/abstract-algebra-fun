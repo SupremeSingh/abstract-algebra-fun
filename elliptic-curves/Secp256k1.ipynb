{
 "cells": [
  {
   "cell_type": "markdown",
   "id": "2f2bff",
   "metadata": {
    "collapsed": false
   },
   "source": [
    "# Curve Generation\n"
   ]
  },
  {
   "cell_type": "code",
   "execution_count": 3,
   "id": "d0b75c",
   "metadata": {
    "collapsed": false
   },
   "outputs": [
   ],
   "source": [
    "p = 0xFFFFFFFFFFFFFFFFFFFFFFFFFFFFFFFFFFFFFFFFFFFFFFFFFFFFFFFEFFFFFC2F\n",
    "F = FiniteField(p)"
   ]
  },
  {
   "cell_type": "code",
   "execution_count": 4,
   "id": "be7f24",
   "metadata": {
    "collapsed": false
   },
   "outputs": [
   ],
   "source": [
    "a = 0\n",
    "b = 7\n",
    "E = EllipticCurve(F, [a, b])"
   ]
  },
  {
   "cell_type": "code",
   "execution_count": 5,
   "id": "10e543",
   "metadata": {
    "collapsed": false
   },
   "outputs": [
   ],
   "source": [
    "G_x = 0x79BE667EF9DCBBAC55A06295CE870B07029BFCDB2DCE28D959F2815B16F81798\n",
    "h = 1 # cofactor\n",
    "G = B = E.lift_x(G_x)"
   ]
  },
  {
   "cell_type": "code",
   "execution_count": 6,
   "id": "f944ef",
   "metadata": {
    "collapsed": false
   },
   "outputs": [
   ],
   "source": [
    "assert(G.order() == 0xFFFFFFFFFFFFFFFFFFFFFFFFFFFFFFFEBAAEDCE6AF48A03BBFD25E8CD0364141)\n",
    "assert(E.order() / G.order() == h)"
   ]
  },
  {
   "cell_type": "markdown",
   "id": "d45174",
   "metadata": {
    "collapsed": false
   },
   "source": [
    "# Key Generation\n"
   ]
  },
  {
   "cell_type": "code",
   "execution_count": 7,
   "id": "0a61c8",
   "metadata": {
    "collapsed": false
   },
   "outputs": [
   ],
   "source": [
    "N = FiniteField(G.order())\n",
    "\n",
    "def keypair (x = None):\n",
    "    if x is None:\n",
    "        x = int(N.random_element(1, N.order() - 1))\n",
    "    P = x * G\n",
    "    return (x, P)\n"
   ]
  },
  {
   "cell_type": "markdown",
   "id": "08ecb9",
   "metadata": {
    "collapsed": false
   },
   "source": [
    "# ECDSA "
   ]
  },
  {
   "cell_type": "code",
   "execution_count": 8,
   "id": "5740ca",
   "metadata": {
    "collapsed": false
   },
   "outputs": [
   ],
   "source": [
    "import hashlib\n",
    "def sign (m, d):\n",
    "    e = int(hashlib.sha1(m).hexdigest(), 16) % N.order()\n",
    "    k = int(N.random_element(1, N.order() - 1))\n",
    "    R = k * G # (k, r) is like a one-time key pair\n",
    "    r = int(R.xy()[0]) % N.order()\n",
    "    assert(r % N.order() != 0)\n",
    "    s = (e + d*r)/k % N.order()\n",
    "    return [r,s]\n",
    "    "
   ]
  },
  {
   "cell_type": "code",
   "execution_count": 9,
   "id": "6de842",
   "metadata": {
    "collapsed": false
   },
   "outputs": [
   ],
   "source": [
    "def verify (sig, m, P):\n",
    "    r, s = sig\n",
    "    assert(0 < r < N.order())\n",
    "    assert(0 < s < N.order())\n",
    "    e = int(hashlib.sha1(m).hexdigest(), 16) % N.order()\n",
    "    u1 = e / s % N.order()\n",
    "    u2 = r / s % N.order()\n",
    "    R = u1 * G + u2 * P\n",
    "    v = int(R.xy()[0]) % N.order()\n",
    "    return v == r"
   ]
  },
  {
   "cell_type": "markdown",
   "id": "426f10",
   "metadata": {
    "collapsed": false
   },
   "source": [
    "# Example: ID based signatures\n",
    "\n"
   ]
  },
  {
   "cell_type": "code",
   "execution_count": 14,
   "id": "af6cc5",
   "metadata": {
    "collapsed": false
   },
   "outputs": [
   ],
   "source": [
    "def idKeypair(id, x = None):\n",
    "    y = int(hashlib.sha256(id).hexdigest(), 16) % N.order()\n",
    "    (d, P) = keypair(x)\n",
    "    z = d * y % N.order()\n",
    "    Q = y * P\n",
    "    return (z, Q)"
   ]
  },
  {
   "cell_type": "code",
   "execution_count": 15,
   "id": "e6faca",
   "metadata": {
    "collapsed": false
   },
   "outputs": [
   ],
   "source": [
    "def idVerify(sig, m, P, id):\n",
    "    y = int(hashlib.sha256(id).hexdigest(), 16) % N.order()\n",
    "    Q = y * P\n",
    "    return verify(sig, m, Q)"
   ]
  },
  {
   "cell_type": "code",
   "execution_count": 16,
   "id": "3b2225",
   "metadata": {
    "collapsed": false
   },
   "outputs": [
   ],
   "source": [
    "def idSign(m, x, id):\n",
    "    y = int(hashlib.sha256(id).hexdigest(), 16) % N.order()\n",
    "    z = x * y % N.order()\n",
    "    return sign(m, z)"
   ]
  },
  {
   "cell_type": "code",
   "execution_count": 19,
   "id": "7bd8d4",
   "metadata": {
    "collapsed": false
   },
   "outputs": [
    {
     "data": {
      "text/plain": [
       "True"
      ]
     },
     "execution_count": 19,
     "metadata": {
     },
     "output_type": "execute_result"
    }
   ],
   "source": [
    "(z, Q) = idKeypair(b\"Emil Bayes\")\n",
    "sig = idSign(b\"Hello world\", z, b\"Emil Bayes\")\n",
    "idVerify(sig, b\"Hello world\", Q, b\"Emil Bayes\")"
   ]
  }
 ],
 "metadata": {
  "kernelspec": {
   "argv": [
    "sage-10.4",
    "--python",
    "-m",
    "sage.repl.ipython_kernel",
    "--matplotlib=inline",
    "-f",
    "{connection_file}"
   ],
   "display_name": "SageMath 10.4",
   "env": {
   },
   "language": "sagemath",
   "metadata": {
    "cocalc": {
     "description": "Open-source mathematical software system",
     "priority": 10,
     "url": "https://www.sagemath.org/"
    }
   },
   "name": "sage-10.4",
   "resource_dir": "/ext/jupyter/kernels/sage-10.4"
  }
 },
 "nbformat": 4,
 "nbformat_minor": 4
}