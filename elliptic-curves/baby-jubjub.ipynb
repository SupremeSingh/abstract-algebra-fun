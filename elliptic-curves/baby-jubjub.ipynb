{
 "cells": [
  {
   "cell_type": "code",
   "execution_count": 1,
   "metadata": {},
   "outputs": [],
   "source": [
    "%run \"curve-mappings.ipynb\""
   ]
  },
  {
   "cell_type": "code",
   "execution_count": 2,
   "metadata": {},
   "outputs": [],
   "source": [
    "p = 21888242871839275222246405745257275088548364400416034343698204186575808495617\n",
    "F = FiniteField(p)"
   ]
  },
  {
   "cell_type": "code",
   "execution_count": 3,
   "metadata": {},
   "outputs": [],
   "source": [
    "a = 7296080957279758407415468581752425029516121466805344781232734728849116493472\n",
    "b = 16213513238399463127589930181672055621146936592900766180517188641980520820846\n",
    "E = EllipticCurve(F, [a, b])"
   ]
  },
  {
   "cell_type": "code",
   "execution_count": 4,
   "metadata": {},
   "outputs": [],
   "source": [
    "# From ZoKrates/ZoKrates\n",
    "Aed = F(0x292FC)\n",
    "Ded = F(0x292F8)\n",
    "(Amont, Bmont) = paramsEdToMont(F, Aed, Ded)\n",
    "(Aw, Bw) = paramsMontToW(F, Amont, Bmont)\n",
    "(Gu, Gv) = (16540640123574156134436876038791482806971768689494387082833631921987005038935,\n",
    "            20819045374670962167435360035096875258406992893633759881276124905556507972311)"
   ]
  },
  {
   "cell_type": "code",
   "execution_count": 5,
   "metadata": {},
   "outputs": [
    {
     "data": {
      "text/plain": [
       "(5770582017491454482739835504873394493585061003341513066721476142726861010192 : 17607012595805819799103265969342024902528946448890482994254679582103455633482 : 1)"
      ]
     },
     "execution_count": 5,
     "metadata": {},
     "output_type": "execute_result"
    }
   ],
   "source": [
    "h = 8\n",
    "G = B = E(pointEdToW((Gu, Gv), F, Amont, Bmont))\n",
    "N = FiniteField(G.order())\n",
    "G"
   ]
  },
  {
   "cell_type": "code",
   "execution_count": 6,
   "metadata": {},
   "outputs": [],
   "source": [
    "assert(E.order() / G.order() == h)\n",
    "assert(G.order() == 2736030358979909402780800718157159386076813972158567259200215660948447373041)\n",
    "assert(is_prime(G.order()))"
   ]
  }
 ],
 "metadata": {
  "kernelspec": {
   "display_name": "SageMath 8.7",
   "language": "",
   "name": "sagemath"
  },
  "language_info": {
   "codemirror_mode": {
    "name": "ipython",
    "version": 2
   },
   "file_extension": ".py",
   "mimetype": "text/x-python",
   "name": "python",
   "nbconvert_exporter": "python",
   "pygments_lexer": "ipython2",
   "version": "2.7.15"
  }
 },
 "nbformat": 4,
 "nbformat_minor": 2
}
