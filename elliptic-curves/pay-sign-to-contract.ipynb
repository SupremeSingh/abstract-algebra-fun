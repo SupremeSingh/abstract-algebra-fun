{
 "cells": [
  {
   "cell_type": "markdown",
   "metadata": {},
   "source": [
    "# Secp256k1\n",
    "\n",
    "Constants from https://en.bitcoin.it/wiki/Secp256k1"
   ]
  },
  {
   "cell_type": "code",
   "execution_count": 1,
   "metadata": {},
   "outputs": [],
   "source": [
    "%run \"secp256k1-ecdsa.ipynb\""
   ]
  },
  {
   "cell_type": "markdown",
   "metadata": {},
   "source": [
    "# Pay-to-contract"
   ]
  },
  {
   "cell_type": "code",
   "execution_count": 2,
   "metadata": {},
   "outputs": [],
   "source": [
    "import hashlib"
   ]
  },
  {
   "cell_type": "code",
   "execution_count": 3,
   "metadata": {},
   "outputs": [],
   "source": [
    "def p2c(m, keypair):\n",
    "    (x, P) = keypair\n",
    "    h = int(hashlib.sha256(str(P.xy()[0]).encode('hex') + m).hexdigest(), 16)\n",
    "    cx = h + x\n",
    "    CP = h * G + P\n",
    "    return (cx, CP)"
   ]
  },
  {
   "cell_type": "markdown",
   "metadata": {},
   "source": [
    "# Sign-to-contract"
   ]
  },
  {
   "cell_type": "code",
   "execution_count": 4,
   "metadata": {},
   "outputs": [],
   "source": [
    "def s2c(m, d, c):\n",
    "    e = int(hashlib.sha1(m).hexdigest(), 16) % N.order()\n",
    "    k = int(N.random_element(1, N.order() - 1))\n",
    "    R = k * G # (k, r) is like a one-time key pair\n",
    "    r = int(R.xy()[0]) % N.order()\n",
    "    assert(r % N.order() != 0)\n",
    "\n",
    "    HRc = int(hashlib.sha256(str(r).encode('hex') + c).hexdigest(), 16)\n",
    "    kk = k + HRc\n",
    "    Q = R + HRc*G\n",
    "    q = int(Q.xy()[0]) % N.order()\n",
    "    assert(q % N.order() != 0)\n",
    "\n",
    "    s = (e + d*q)/kk % N.order()\n",
    "    return ([q,s], R)"
   ]
  },
  {
   "cell_type": "code",
   "execution_count": 5,
   "metadata": {},
   "outputs": [],
   "source": [
    "def s2cVerify(sig, R, m, P, c):\n",
    "    if (verify(sig, m, P) == false):\n",
    "        return false\n",
    "    \n",
    "    r = int(R.xy()[0]) % N.order()\n",
    "    HRc = int(hashlib.sha256(str(r).encode('hex') + c).hexdigest(), 16)\n",
    "    T = R + HRc * G\n",
    "    t = int(T.xy()[0]) % N.order()\n",
    "    \n",
    "    return t == sig[0]"
   ]
  },
  {
   "cell_type": "markdown",
   "metadata": {},
   "source": [
    "# Example"
   ]
  },
  {
   "cell_type": "code",
   "execution_count": 6,
   "metadata": {},
   "outputs": [],
   "source": [
    "(x, P) = keypair()"
   ]
  },
  {
   "cell_type": "code",
   "execution_count": 7,
   "metadata": {},
   "outputs": [
    {
     "data": {
      "text/plain": [
       "True"
      ]
     },
     "execution_count": 7,
     "metadata": {},
     "output_type": "execute_result"
    }
   ],
   "source": [
    "(cx, CP) = p2c(b\"contract\", (x, P))\n",
    "p2cSig = sign(b\"Hello world\", cx)\n",
    "\n",
    "verify(p2cSig, b\"Hello world\", CP)"
   ]
  },
  {
   "cell_type": "code",
   "execution_count": 8,
   "metadata": {},
   "outputs": [
    {
     "data": {
      "text/plain": [
       "(True, True)"
      ]
     },
     "execution_count": 8,
     "metadata": {},
     "output_type": "execute_result"
    }
   ],
   "source": [
    "(s2cSig, s2cR) = s2c(b\"Hello world\", x, b\"contract\")\n",
    "\n",
    "verify(s2cSig, b\"Hello world\", P), s2cVerify(s2cSig, s2cR, b\"Hello world\", P, b\"contract\")"
   ]
  }
 ],
 "metadata": {
  "kernelspec": {
   "display_name": "SageMath 8.7",
   "language": "",
   "name": "sagemath"
  },
  "language_info": {
   "codemirror_mode": {
    "name": "ipython",
    "version": 2
   },
   "file_extension": ".py",
   "mimetype": "text/x-python",
   "name": "python",
   "nbconvert_exporter": "python",
   "pygments_lexer": "ipython2",
   "version": "2.7.15"
  }
 },
 "nbformat": 4,
 "nbformat_minor": 2
}
