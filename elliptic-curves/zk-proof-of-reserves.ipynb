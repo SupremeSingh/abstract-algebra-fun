{
 "cells": [
  {
   "cell_type": "code",
   "execution_count": 1,
   "metadata": {},
   "outputs": [],
   "source": [
    "%run \"baby-jubjub.ipynb\""
   ]
  },
  {
   "cell_type": "code",
   "execution_count": 2,
   "metadata": {},
   "outputs": [],
   "source": [
    "def commit(x, H):\n",
    "    assert(0 < x < N.order())\n",
    "    s = x % N.order()\n",
    "    t = int(N.random_element(1, N.order() - 1))\n",
    "    C = s*G + t*H\n",
    "    return (C, t)\n",
    "\n",
    "def open(C, t, x, H):\n",
    "    assert(0 < x < N.order())\n",
    "    s = x\n",
    "    Cprime = s*G + t*H\n",
    "    return C == Cprime\n",
    "\n",
    "def addC(C1, C2):\n",
    "    return C1 + C2\n",
    "\n",
    "def addT(t1, t2):\n",
    "    return t1 + t2 % N.order()\n",
    "\n",
    "def addX(x1, x2):\n",
    "    assert(0 < x1 + x2 < N.order())\n",
    "    return x1 + x2"
   ]
  },
  {
   "cell_type": "code",
   "execution_count": 3,
   "metadata": {},
   "outputs": [
    {
     "data": {
      "text/plain": [
       "(15062767207209273935069766228681029151541034596557745984629900633106846735903,\n",
       " 6341322789198213736148938234331954507166091334711016221314502571133203693855)"
      ]
     },
     "execution_count": 3,
     "metadata": {},
     "output_type": "execute_result"
    }
   ],
   "source": [
    "H = E(6194595726402067201576091900283561622215763079773074967268850179021717238447, 8439092241020226480363983149744167072619692543280365025111519919082806615610)\n",
    "Hed = pointWToEd(H.xy(), F, Amont, Bmont)\n",
    "Hed"
   ]
  },
  {
   "cell_type": "code",
   "execution_count": 4,
   "metadata": {},
   "outputs": [],
   "source": [
    "class Account:\n",
    "    def __init__(self, amount):\n",
    "        self.amount = amount\n",
    "        self.amount_in_bits = [amount >> i & 1 for i in range(32, -1, -1)]\n",
    "        (self.commitment, self.blinding_factor) = commit(amount, H)\n",
    "        self.blinding_factor_in_bits = [self.blinding_factor >> i & 1 for i in range(255, -1, -1)]"
   ]
  },
  {
   "cell_type": "code",
   "execution_count": 5,
   "metadata": {},
   "outputs": [],
   "source": [
    "(a, b, c, d) = (Account(randint(0, 2**33)), Account(randint(0, 2**33)), Account(randint(0, 2**33)), Account(randint(0, 2**33)))"
   ]
  },
  {
   "cell_type": "code",
   "execution_count": 6,
   "metadata": {},
   "outputs": [
    {
     "data": {
      "text/plain": [
       "(6755660355, 957527168, 2340666061, 2679155564)"
      ]
     },
     "execution_count": 6,
     "metadata": {},
     "output_type": "execute_result"
    }
   ],
   "source": [
    "(a.amount, b.amount, c.amount, d.amount)"
   ]
  },
  {
   "cell_type": "code",
   "execution_count": 7,
   "metadata": {},
   "outputs": [],
   "source": [
    "sumX = addX(addX(a.amount, b.amount), addX(c.amount, d.amount))\n",
    "sumT = addT(addT(a.blinding_factor, b.blinding_factor), addT(c.blinding_factor, d.blinding_factor))\n",
    "sumC = addC(addC(a.commitment, b.commitment), addC(c.commitment, d.commitment))"
   ]
  },
  {
   "cell_type": "code",
   "execution_count": 8,
   "metadata": {},
   "outputs": [
    {
     "data": {
      "text/plain": [
       "(True, True, True, True, True, True, True)"
      ]
     },
     "execution_count": 8,
     "metadata": {},
     "output_type": "execute_result"
    }
   ],
   "source": [
    "(open(a.commitment, a.blinding_factor, a.amount, H), \n",
    " open(b.commitment, b.blinding_factor, b.amount, H), \n",
    " open(c.commitment, c.blinding_factor, c.amount, H), \n",
    " open(d.commitment, d.blinding_factor, d.amount, H),\n",
    " open(addC(a.commitment, b.commitment), addT(a.blinding_factor, b.blinding_factor), addX(a.amount, b.amount), H), \n",
    " open(addC(c.commitment, d.commitment), addT(c.blinding_factor, d.blinding_factor), addX(c.amount, d.amount), H), \n",
    " open(sumC, sumT, sumX, H))"
   ]
  },
  {
   "cell_type": "code",
   "execution_count": 9,
   "metadata": {},
   "outputs": [
    {
     "data": {
      "text/plain": [
       "'415875841684742911533632413538711654786213925598584457141403615164527777037 5182627401359431743448843690711571842429225135186676329572872869640858769795 4788040944190702879485553848373438631354781394360910556041831104740910546651 13595836178491841617396194324501650920685545858362044956866301260898560303503 16903032901723492174378585153630193633667899743395361566166221483332461471016 21784722373952772412925627565977165569856829871927952108242913025705384404289 14244775406468778061318081514046218905987030480471049522887183628927988419775 17183959217100927814960654031713660060188019016455744414536182231933939614070 1 1 0 0 1 0 0 1 0 1 0 1 0 1 0 1 1 0 0 1 1 0 0 1 0 0 1 0 0 0 0 1 1 0 0 0 1 1 1 0 0 1 0 0 0 1 0 0 1 0 1 0 1 1 0 1 0 0 1 0 0 0 0 0 0 0 0 1 0 0 0 1 0 1 1 1 0 0 0 0 0 1 1 1 0 1 1 1 0 1 0 1 1 0 0 1 1 0 1 0 1 0 0 1 1 1 1 1 1 0 1 1 0 0 0 0 1 0 1 0 1 0 1 1 0 1 1 0 1 1 0 0 0 0 0 0 0 1 0 0 0 0 0 1 0 0 0 0 1 0 0 0 1 0 1 1 0 1 1 1 1 0 0 1 0 1 0 0 1 1 1 0 1 0 0 1 1 0 0 1 1 1 0 1 1 0 1 1 0 0 0 0 1 1 1 0 0 0 0 0 1 1 0 1 0 0 0 0 0 0 1 0 1 1 1 1 1 1 1 1 0 1 1 0 1 0 0 0 0 0 0 1 1 0 0 0 0 0 1 1 1 0 1 0 1 0 0 1 0 1 0 1 1 0 0 0 1 0 0 0 0 1 1 1 0 0 1 1 1 1 0 1 1 0 1 0 0 1 0 1 1 1 0 0 1 1 0 1 1 1 0 1 1 0 0 1 0 0 1 0 1 1 1 0 1 0 1 0 0 1 1 1 0 1 0 1 0 0 0 0 0 1 0 0 1 1 1 1 1 1 0 1 0 1 1 0 0 1 1 0 1 1 0 0 1 0 1 1 1 1 0 0 0 1 0 1 0 0 1 1 0 0 1 1 1 0 0 0 1 1 0 1 1 1 1 1 1 0 1 1 1 1 0 0 0 1 0 0 0 0 0 0 0 0 1 0 0 1 0 0 1 0 0 0 1 0 0 0 0 1 0 1 0 1 1 0 0 1 0 1 0 0 1 0 0 0 0 1 1 0 1 0 1 1 1 0 0 0 1 0 0 1 1 1 1 0 1 0 0 0 1 0 1 0 0 1 0 0 0 1 1 1 1 0 1 1 0 0 0 0 1 0 0 0 0 0 0 0 1 0 0 1 1 0 0 0 0 1 1 1 0 0 0 0 1 0 1 0 0 0 1 1 1 1 1 0 1 0 1 1 0 1 1 0 0 0 1 0 1 1 0 1 1 0 0 0 0 0 0 0 0 0 1 0 0 0 0 0 0 1 0 0 0 0 0 0 1 1 0 1 1 0 1 0 1 1 1 1 0 1 1 0 0 1 1 0 1 0 1 0 1 1 1 1 0 1 1 0 0 1 0 0 1 0 1 0 0 1 1 0 0 0 0 1 1 1 1 0 0 0 1 1 0 0 1 1 1 1 1 0 1 1 1 1 1 0 1 0 1 1 1 1 1 1 1 1 1 1 1 0 0 0 1 1 0 0 0 1 1 0 1 1 0 1 0 0 0 0 0 0 1 1 1 1 1 1 0 1 1 1 1 1 0 0 1 1 1 1 1 1 1 1 1 0 0 0 0 0 1 1 1 0 1 1 1 0 0 0 1 1 1 1 0 0 0 0 1 1 1 1 1 0 0 1 1 1 1 0 1 0 1 0 0 1 0 1 0 0 1 1 0 0 1 0 0 0 1 1 0 1 1 1 0 0 1 1 0 0 1 0 0 0 0 0 1 1 0 1 0 0 0 0 1 0 1 0 0 1 0 0 0 1 1 1 0 0 1 0 0 1 1 0 0 0 0 0 1 0 1 0 0 0 0 1 1 1 0 0 0 1 1 0 1 0 0 1 0 1 0 0 0 0 0 0 0 1 0 1 1 0 0 1 0 1 0 0 1 1 1 0 0 0 0 0 1 0 0 1 1 1 1 0 1 0 1 0 0 0 0 0 1 0 1 0 0 0 0 0 1 1 1 0 0 0 0 1 0 1 0 0 1 1 0 0 1 1 1 0 1 0 0 1 0 1 1 1 0 0 1 1 1 0 0 0 0 0 0 0 1 0 1 1 1 0 1 1 0 0 0 0 0 0 0 0 0 0 1 0 1 0 1 1 1 1 0 0 0 0 1 0 1 1 1 0 1 0 1 0 0 1 0 0 0 1 0 1 1 1 1 1 0 0 1 1 1 1 1 1 0 1 0 0 1 0 0 0 0 0 0 0 0 0 1 0 1 1 1 0 0 0 0 0 1 0 1 0 1 1 0 0 0 0 0 1 1 0 1 0 1 0 1 1 1 0 1 1 0 0 1 1 0 0 1 0 0 1 1 1 0 0 0 1 0 0 0 0 1 1 1 0 1 0 1 0 1 1 1 0 0 1 0 0 0 0 0 0 1 0 0 0 0 1 0 0 1 0 1 0 1 0 1 1 1 0 1 0 0 0 1 1 1 1 0 0 0 1 1 1 0 0 0 0 0 1 0 0 0 0 1 0 1 0 1 0 1 1 1 0 1 0 1 0 1 0 0 1 1 0 1 1 0 1 0 0 1 0 0 0 0 1 0 1 0 0 0 1 0 1 0 0 1 0 1 0 0 0 1 0 0 0 0 1 0 0 0 1 0 1 0 1 1 1 0 1 0 0 1 1 0 1 0 0 0 0 0 0 6755660355 957527168 2340666061 2679155564 12733009148'"
      ]
     },
     "execution_count": 9,
     "metadata": {},
     "output_type": "execute_result"
    }
   ],
   "source": [
    "import collections\n",
    "\n",
    "\n",
    "def flatten(x):\n",
    "    if isinstance(x, collections.Iterable):\n",
    "        return [str(a) for i in x for a in flatten(i)]\n",
    "    else:\n",
    "        return [str(x)]\n",
    "\n",
    "accounts = [a, b, c, d]\n",
    "\n",
    "args = flatten([\n",
    "    [pointWToEd(p.commitment.xy(), F, Amont, Bmont) for p in accounts],\n",
    "    [p.amount_in_bits for p in accounts],\n",
    "    [p.blinding_factor_in_bits for p in accounts],\n",
    "    [p.amount for p in accounts],\n",
    "    sumX\n",
    "])\n",
    "\n",
    "' '.join(args)"
   ]
  }
 ],
 "metadata": {
  "kernelspec": {
   "display_name": "SageMath 8.7",
   "language": "",
   "name": "sagemath"
  },
  "language_info": {
   "codemirror_mode": {
    "name": "ipython",
    "version": 2
   },
   "file_extension": ".py",
   "mimetype": "text/x-python",
   "name": "python",
   "nbconvert_exporter": "python",
   "pygments_lexer": "ipython2",
   "version": "2.7.15"
  }
 },
 "nbformat": 4,
 "nbformat_minor": 2
}
