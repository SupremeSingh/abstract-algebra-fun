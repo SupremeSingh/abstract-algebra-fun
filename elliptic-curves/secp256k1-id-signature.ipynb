{
 "cells": [
  {
   "cell_type": "code",
   "execution_count": 24,
   "metadata": {},
   "outputs": [],
   "source": [
    "%run \"secp256k1-ecdsa.ipynb\""
   ]
  },
  {
   "cell_type": "markdown",
   "metadata": {},
   "source": [
    "# ID based signatures"
   ]
  },
  {
   "cell_type": "code",
   "execution_count": 44,
   "metadata": {},
   "outputs": [],
   "source": [
    "def idKeypair(id, x = None):\n",
    "    y = int(hashlib.sha256(id).hexdigest(), 16) % N.order()\n",
    "    (d, P) = keypair(x)\n",
    "    z = d * y % N.order()\n",
    "    Q = y * P\n",
    "    return (z, Q)"
   ]
  },
  {
   "cell_type": "code",
   "execution_count": 39,
   "metadata": {},
   "outputs": [],
   "source": [
    "def idVerify(sig, m, P, id):\n",
    "    y = int(hashlib.sha256(id).hexdigest(), 16) % N.order()\n",
    "    Q = y * P\n",
    "    return verify(sig, m, Q)"
   ]
  },
  {
   "cell_type": "code",
   "execution_count": 40,
   "metadata": {},
   "outputs": [],
   "source": [
    "def idSign(m, x, id):\n",
    "    y = int(hashlib.sha256(id).hexdigest(), 16) % N.order()\n",
    "    z = x * y % N.order()\n",
    "    return sign(m, z)"
   ]
  },
  {
   "cell_type": "markdown",
   "metadata": {},
   "source": [
    "# Example"
   ]
  },
  {
   "cell_type": "code",
   "execution_count": 41,
   "metadata": {},
   "outputs": [],
   "source": [
    "(d, Q) = keypair()"
   ]
  },
  {
   "cell_type": "code",
   "execution_count": 42,
   "metadata": {},
   "outputs": [],
   "source": [
    "sig = idSign(b\"Hello world\", d, b\"Emil Bayes\")"
   ]
  },
  {
   "cell_type": "code",
   "execution_count": 43,
   "metadata": {},
   "outputs": [
    {
     "data": {
      "text/plain": [
       "True"
      ]
     },
     "execution_count": 43,
     "metadata": {},
     "output_type": "execute_result"
    }
   ],
   "source": [
    "idVerify(sig, b\"Hello world\", Q, b\"Emil Bayes\")"
   ]
  },
  {
   "cell_type": "code",
   "execution_count": 50,
   "metadata": {},
   "outputs": [],
   "source": [
    "(idd, idP) = idKeypair(b\"Emil Bayes\", d)"
   ]
  },
  {
   "cell_type": "code",
   "execution_count": 51,
   "metadata": {},
   "outputs": [
    {
     "data": {
      "text/plain": [
       "(84521048636767487893655099398724956228383892482839601899095509725817286891074,\n",
       " (47998998505324935399117836631592373264081316882396265959206557985221119638111 : 25323674658257805384522539893666164597212503841555557310495657236643313019499 : 1))"
      ]
     },
     "execution_count": 51,
     "metadata": {},
     "output_type": "execute_result"
    }
   ],
   "source": [
    "idd, idP"
   ]
  },
  {
   "cell_type": "code",
   "execution_count": 52,
   "metadata": {},
   "outputs": [
    {
     "data": {
      "text/plain": [
       "True"
      ]
     },
     "execution_count": 52,
     "metadata": {},
     "output_type": "execute_result"
    }
   ],
   "source": [
    "verify(sig, b\"Hello world\", idP)"
   ]
  }
 ],
 "metadata": {
  "kernelspec": {
   "display_name": "SageMath 8.7",
   "language": "",
   "name": "sagemath"
  },
  "language_info": {
   "codemirror_mode": {
    "name": "ipython",
    "version": 2
   },
   "file_extension": ".py",
   "mimetype": "text/x-python",
   "name": "python",
   "nbconvert_exporter": "python",
   "pygments_lexer": "ipython2",
   "version": "2.7.15"
  }
 },
 "nbformat": 4,
 "nbformat_minor": 2
}
